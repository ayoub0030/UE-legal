{
 "cells": [
  {
   "cell_type": "code",
   "execution_count": null,
   "id": "da236722",
   "metadata": {},
   "outputs": [],
   "source": []
  },
  {
   "cell_type": "code",
   "execution_count": 43,
   "id": "6f26960f",
   "metadata": {},
   "outputs": [],
   "source": [
    "import numpy as np\n",
    "import pandas as pd\n",
    "import nltk\n",
    "from nltk.corpus import stopwords\n",
    "import string\n",
    "import re\n",
    "import time\n",
    "import html\n",
    "from sklearn.model_selection import train_test_split\n",
    "from sklearn.feature_extraction.text import CountVectorizer, TfidfTransformer\n",
    "from sklearn.naive_bayes import MultinomialNB, GaussianNB\n",
    "from sklearn.linear_model import LogisticRegression\n",
    "from sklearn.svm import SVC\n",
    "from sklearn.ensemble import RandomForestClassifier\n",
    "\n",
    "from sklearn.preprocessing import LabelEncoder\n",
    "from sklearn.metrics import classification_report, accuracy_score, confusion_matrix\n",
    "import matplotlib.pyplot as plt\n",
    "import seaborn as sns\n",
    "import joblib\n",
    "import os\n",
    "\n",
    "# Download necessary NLTK resources\n",
    "try:\n",
    "    nltk.data.find('corpora/stopwords')\n",
    "except LookupError:\n",
    "    nltk.download('stopwords')"
   ]
  },
  {
   "cell_type": "code",
   "execution_count": null,
   "id": "fea9527d",
   "metadata": {},
   "outputs": [],
   "source": []
  },
  {
   "cell_type": "code",
   "execution_count": null,
   "id": "0851e32c",
   "metadata": {},
   "outputs": [],
   "source": [
    "# Create output directory for results\n",
    "os.makedirs('model_results', exist_ok=True)\n",
    "\n",
    "\n",
    "df_train = pd.read_csv('complete_cleaned_dataset.csv')\n",
    "print(f\"Dataset loaded with shape: {df_train.shape}\")"
   ]
  },
  {
   "cell_type": "markdown",
   "id": "5097b133",
   "metadata": {},
   "source": [
    "Text preprocessing functions"
   ]
  },
  {
   "cell_type": "code",
   "execution_count": 15,
   "id": "2dfc7e44",
   "metadata": {},
   "outputs": [],
   "source": [
    "custom_stopwords = [\n",
    "    # Decision-specific terms\n",
    "    'decision', 'decisions',\n",
    "    'this decision', 'decision is', 'decision that', 'decision shall',\n",
    "    # Regulation-specific terms\n",
    "    'regulation', 'regulations', 'this regulation', 'regulation that', 'the regulation',\n",
    "    'the directive', \n",
    "    # Directive-specific terms\n",
    "    'directive', 'directives', 'this directive', 'the directive', 'directive is', \n",
    "    'directive shall', 'directive to'\n",
    "]\n",
    "\n",
    "def remove_punctuation(text):\n",
    "    if isinstance(text, str):\n",
    "        nopunc = [char for char in text if char not in string.punctuation]\n",
    "        return ''.join(nopunc)\n",
    "    return \"\"\n",
    "\n",
    "def remove_stopwords(text):\n",
    "    if isinstance(text, str):\n",
    "        clean = [word for word in text.split() if word.lower() not in stopwords.words('english')]\n",
    "        \n",
    "        return ' '.join(clean)\n",
    "    return \"\"\n",
    "\n",
    "def clean_text(text):\n",
    "    if isinstance(text, str):\n",
    "      \n",
    "\n",
    "        for term in custom_stopwords:\n",
    "           text = re.sub(r'\\b' + term + r'\\b', '', text, flags=re.IGNORECASE)\n",
    "        \n",
    "        return text\n",
    "    return \"\"\n",
    "\n",
    "def stem_text(text):\n",
    "    if isinstance(text, str):\n",
    "        porter = nltk.PorterStemmer()\n",
    "        stemmed_words = [porter.stem(word) for word in text.split()]\n",
    "        return ' '.join(stemmed_words)\n",
    "    return \"\""
   ]
  },
  {
   "cell_type": "code",
   "execution_count": 16,
   "id": "9366be92",
   "metadata": {},
   "outputs": [],
   "source": [
    "df_train['combined_text'] = df_train['header'] +     \" \" + df_train['recitals'] \n"
   ]
  },
  {
   "cell_type": "code",
   "execution_count": 17,
   "id": "1c73256a",
   "metadata": {},
   "outputs": [
    {
     "name": "stderr",
     "output_type": "stream",
     "text": [
      "[nltk_data] Downloading package stopwords to\n",
      "[nltk_data]     C:\\Users\\HP\\AppData\\Roaming\\nltk_data...\n",
      "[nltk_data]   Package stopwords is already up-to-date!\n"
     ]
    },
    {
     "data": {
      "text/plain": [
       "True"
      ]
     },
     "execution_count": 17,
     "metadata": {},
     "output_type": "execute_result"
    }
   ],
   "source": [
    "import nltk\n",
    "nltk.download('stopwords')\n"
   ]
  },
  {
   "cell_type": "markdown",
   "id": "c871402f",
   "metadata": {},
   "source": [
    "Text cleaning"
   ]
  },
  {
   "cell_type": "code",
   "execution_count": 19,
   "id": "fde909a6",
   "metadata": {},
   "outputs": [],
   "source": [
    "from nltk.corpus import stopwords\n",
    "\n",
    "# Load stopwords once\n",
    "stop_words = set(stopwords.words('english'))\n",
    "\n",
    "def remove_stopwords(text):\n",
    "    if isinstance(text, str):\n",
    "        clean = [word for word in text.split() if word.lower() not in stop_words]\n",
    "        return ' '.join(clean)\n",
    "    return \"\"\n",
    "\n",
    "# Apply the function\n",
    "df_train['combined_text'] = df_train['combined_text'].apply(remove_stopwords)\n"
   ]
  },
  {
   "cell_type": "code",
   "execution_count": 20,
   "id": "1ffbf4b6",
   "metadata": {},
   "outputs": [],
   "source": [
    "X_train = df_train['combined_text']\n",
    "y_train = df_train['type']\n"
   ]
  },
  {
   "cell_type": "code",
   "execution_count": 21,
   "id": "50b9a130",
   "metadata": {},
   "outputs": [],
   "source": [
    "df_test = pd.read_csv('test_dataset.csv')\n",
    "\n",
    "df_test['combined_text'] = df_test['header'] + \" \" + df_test['recitals'] + \" \" + df_test['main_body']\n",
    "\n",
    "from nltk.corpus import stopwords\n",
    "\n",
    "# Load stopwords once\n",
    "stop_words = set(stopwords.words('english'))\n",
    "\n",
    "def remove_stopwords(text):\n",
    "    if isinstance(text, str):\n",
    "        clean = [word for word in text.split() if word.lower() not in stop_words]\n",
    "        return ' '.join(clean)\n",
    "    return \"\"\n",
    "\n",
    "# Apply the function\n",
    "\n",
    "df_test['combined_text'] = df_test['combined_text'].apply(remove_stopwords) \n",
    "\n",
    "X_test = df_test['combined_text']\n",
    "y_test = df_test['type']\n",
    "\n"
   ]
  },
  {
   "cell_type": "markdown",
   "id": "54dc796b",
   "metadata": {},
   "source": [
    "Encode target variable"
   ]
  },
  {
   "cell_type": "code",
   "execution_count": 23,
   "id": "0986304c",
   "metadata": {},
   "outputs": [
    {
     "name": "stdout",
     "output_type": "stream",
     "text": [
      "\n",
      "Encoding target variable...\n",
      "\n",
      "Class encoding mapping:\n",
      "0: Decision\n",
      "1: Directive\n",
      "2: Regulation\n"
     ]
    }
   ],
   "source": [
    "print(\"\\nEncoding target variable...\")\n",
    "label_encoder = LabelEncoder()\n",
    "label_encoder.fit(pd.concat([y_train, y_test]))\n",
    "\n",
    "label_encoder.fit(pd.concat([y_train, y_test]))\n",
    "\n",
    "\n",
    "\n",
    "# Print encoded class mapping\n",
    "print(\"\\nClass encoding mapping:\")\n",
    "for i, class_name in enumerate(label_encoder.classes_):\n",
    "    print(f\"{i}: {class_name}\")"
   ]
  },
  {
   "cell_type": "code",
   "execution_count": 27,
   "id": "e3c939a0",
   "metadata": {},
   "outputs": [
    {
     "name": "stdout",
     "output_type": "stream",
     "text": [
      "\n",
      "Splitting data into training and test sets...\n",
      "Data split into training set (36000 samples) and testing set (9000 samples)\n"
     ]
    }
   ],
   "source": [
    "#Split the data\n",
    "print(\"\\nSplitting data into training and test sets...\")\n",
    "X_train, X_test, y_train, y_test = train_test_split(X_train, y_train, test_size=0.2, random_state=42, stratify=y_train)\n",
    "print(f\"Data split into training set ({X_train.shape[0]} samples) and testing set ({X_test.shape[0]} samples)\")\n"
   ]
  },
  {
   "cell_type": "code",
   "execution_count": 28,
   "id": "00343158",
   "metadata": {},
   "outputs": [],
   "source": [
    "# Convert to encoded versions for models that need it\n",
    "y_train_encoded = label_encoder.transform(y_train)\n",
    "y_test_encoded = label_encoder.transform(y_test)"
   ]
  },
  {
   "cell_type": "code",
   "execution_count": 30,
   "id": "ceef224b",
   "metadata": {},
   "outputs": [
    {
     "name": "stdout",
     "output_type": "stream",
     "text": [
      "\n",
      "Performing feature extraction...\n"
     ]
    }
   ],
   "source": [
    "print(\"\\nPerforming feature extraction...\")\n",
    "count_vect = CountVectorizer(max_features=2000)\n",
    "X_train_count = count_vect.fit_transform(X_train)\n",
    "X_test_count = count_vect.transform(X_test)\n"
   ]
  },
  {
   "cell_type": "code",
   "execution_count": 31,
   "id": "c1cced36",
   "metadata": {},
   "outputs": [
    {
     "name": "stdout",
     "output_type": "stream",
     "text": [
      "TF-IDF features shape: (36000, 2000)\n"
     ]
    }
   ],
   "source": [
    "tfidf_transformer = TfidfTransformer()\n",
    "X_train_tfidf = tfidf_transformer.fit_transform(X_train_count)\n",
    "X_test_tfidf = tfidf_transformer.transform(X_test_count)\n",
    "\n",
    "print(f\"TF-IDF features shape: {X_train_tfidf.shape}\")"
   ]
  },
  {
   "cell_type": "markdown",
   "id": "fd2fc743",
   "metadata": {
    "jp-MarkdownHeadingCollapsed": true
   },
   "source": [
    "# Function to train and evaluate a model\n"
   ]
  },
  {
   "cell_type": "code",
   "execution_count": 33,
   "id": "ebb633cd",
   "metadata": {},
   "outputs": [],
   "source": [
    "def train_and_evaluate(model, name, X_train, X_test, y_train, y_test, needs_encoded=False):\n",
    "    print(f\"\\n{'-'*20} Training {name} {'-'*20}\")\n",
    "    start = time.time()\n",
    "    \n",
    "    # Use encoded labels if needed\n",
    "    train_y = y_train_encoded if needs_encoded else y_train\n",
    "    test_y = y_test_encoded if needs_encoded else y_test\n",
    "    \n",
    "    # Train the model\n",
    "    model.fit(X_train, train_y)\n",
    "    train_time = time.time() - start\n",
    "    \n",
    "    # Make predictions\n",
    "    if needs_encoded:\n",
    "        y_pred_encoded = model.predict(X_test)\n",
    "        y_pred = label_encoder.inverse_transform(y_pred_encoded)\n",
    "    else:\n",
    "        y_pred = model.predict(X_test)\n",
    "    \n",
    "    # Calculate metrics\n",
    "    accuracy = accuracy_score(y_test, y_pred)\n",
    "    report = classification_report(y_test, y_pred, output_dict=True)\n",
    "    \n",
    "    # Print results\n",
    "    print(f\"{name} Results:\")\n",
    "    print(f\"Accuracy: {accuracy:.4f}\")\n",
    "    print(f\"Training time: {train_time:.2f} seconds\")\n",
    "    \n",
    "    # Save detailed report to file\n",
    "    with open(f\"model_results/{name.replace(' ', '_').lower()}_report.txt\", 'w') as f:\n",
    "        f.write(f\"{name} Results:\\n\")\n",
    "        f.write(f\"Accuracy: {accuracy:.4f}\\n\")\n",
    "        f.write(f\"Training time: {train_time:.2f} seconds\\n\\n\")\n",
    "        f.write(\"Classification Report:\\n\")\n",
    "        f.write(classification_report(y_test, y_pred))\n",
    "    \n",
    "    # Create confusion matrix\n",
    "    cm = confusion_matrix(y_test, y_pred)\n",
    "    plt.figure(figsize=(10, 8))\n",
    "    sns.heatmap(cm, annot=True, fmt='d', cmap='Blues', \n",
    "                xticklabels=label_encoder.classes_, \n",
    "                yticklabels=label_encoder.classes_)\n",
    "    plt.xlabel('Predicted')\n",
    "    plt.ylabel('True')\n",
    "    plt.title(f'Confusion Matrix - {name}')\n",
    "    plt.tight_layout()\n",
    "    plt.savefig(f\"model_results/{name.replace(' ', '_').lower()}_confusion_matrix.png\")\n",
    "    plt.close()\n",
    "    \n",
    "    # Save the model\n",
    "    joblib.dump(model, f\"model_results/{name.replace(' ', '_').lower()}_model.joblib\")\n",
    "    \n",
    "    return {\n",
    "        'name': name,\n",
    "        'accuracy': accuracy,\n",
    "        'training_time': train_time,\n",
    "        'model': model\n",
    "    }\n"
   ]
  },
  {
   "cell_type": "code",
   "execution_count": 34,
   "id": "23872518",
   "metadata": {},
   "outputs": [],
   "source": [
    "results = []\n"
   ]
  },
  {
   "cell_type": "markdown",
   "id": "aa2b725a",
   "metadata": {},
   "source": [
    "# 1. Multinomial Naive Bayes"
   ]
  },
  {
   "cell_type": "code",
   "execution_count": 36,
   "id": "51582466",
   "metadata": {},
   "outputs": [
    {
     "name": "stdout",
     "output_type": "stream",
     "text": [
      "\n",
      "-------------------- Training Multinomial Naive Bayes --------------------\n",
      "Multinomial Naive Bayes Results:\n",
      "Accuracy: 0.9022\n",
      "Training time: 0.38 seconds\n"
     ]
    }
   ],
   "source": [
    "mnb_model = MultinomialNB()\n",
    "mnb_results = train_and_evaluate(mnb_model, \"Multinomial Naive Bayes\", X_train_tfidf, X_test_tfidf, y_train, y_test)\n",
    "results.append(mnb_results)"
   ]
  },
  {
   "cell_type": "code",
   "execution_count": 23,
   "id": "459060e3",
   "metadata": {},
   "outputs": [
    {
     "name": "stdout",
     "output_type": "stream",
     "text": [
      "\n",
      "-------------------- Training Logistic Regression --------------------\n",
      "Logistic Regression Results:\n",
      "Accuracy: 0.9911\n",
      "Training time: 9.68 seconds\n"
     ]
    }
   ],
   "source": [
    "lr_model = LogisticRegression(max_iter=1000, class_weight='balanced')\n",
    "lr_results = train_and_evaluate(lr_model, \"Logistic Regression\", X_train_tfidf, X_test_tfidf, y_train, y_test)\n",
    "results.append(lr_results)"
   ]
  },
  {
   "cell_type": "code",
   "execution_count": 24,
   "id": "e4a572e0",
   "metadata": {},
   "outputs": [
    {
     "name": "stdout",
     "output_type": "stream",
     "text": [
      "\n",
      "-------------------- Training Support Vector Machine --------------------\n"
     ]
    },
    {
     "ename": "KeyboardInterrupt",
     "evalue": "",
     "output_type": "error",
     "traceback": [
      "\u001b[1;31m---------------------------------------------------------------------------\u001b[0m",
      "\u001b[1;31mKeyboardInterrupt\u001b[0m                         Traceback (most recent call last)",
      "Cell \u001b[1;32mIn[24], line 4\u001b[0m\n\u001b[0;32m      1\u001b[0m \u001b[38;5;28;01mfrom\u001b[39;00m \u001b[38;5;21;01msklearn\u001b[39;00m\u001b[38;5;21;01m.\u001b[39;00m\u001b[38;5;21;01msvm\u001b[39;00m \u001b[38;5;28;01mimport\u001b[39;00m SVC\n\u001b[0;32m      3\u001b[0m svm_model \u001b[38;5;241m=\u001b[39m SVC(kernel\u001b[38;5;241m=\u001b[39m\u001b[38;5;124m'\u001b[39m\u001b[38;5;124mlinear\u001b[39m\u001b[38;5;124m'\u001b[39m, class_weight\u001b[38;5;241m=\u001b[39m\u001b[38;5;124m'\u001b[39m\u001b[38;5;124mbalanced\u001b[39m\u001b[38;5;124m'\u001b[39m)\n\u001b[1;32m----> 4\u001b[0m svm_results \u001b[38;5;241m=\u001b[39m train_and_evaluate(svm_model, \u001b[38;5;124m\"\u001b[39m\u001b[38;5;124mSupport Vector Machine\u001b[39m\u001b[38;5;124m\"\u001b[39m, X_train_tfidf, X_test_tfidf, y_train, y_test)\n\u001b[0;32m      5\u001b[0m results\u001b[38;5;241m.\u001b[39mappend(svm_results)\n",
      "Cell \u001b[1;32mIn[20], line 18\u001b[0m, in \u001b[0;36mtrain_and_evaluate\u001b[1;34m(model, name, X_train, X_test, y_train, y_test, needs_encoded)\u001b[0m\n\u001b[0;32m     16\u001b[0m     y_pred \u001b[38;5;241m=\u001b[39m label_encoder\u001b[38;5;241m.\u001b[39minverse_transform(y_pred_encoded)\n\u001b[0;32m     17\u001b[0m \u001b[38;5;28;01melse\u001b[39;00m:\n\u001b[1;32m---> 18\u001b[0m     y_pred \u001b[38;5;241m=\u001b[39m model\u001b[38;5;241m.\u001b[39mpredict(X_test)\n\u001b[0;32m     20\u001b[0m \u001b[38;5;66;03m# Calculate metrics\u001b[39;00m\n\u001b[0;32m     21\u001b[0m accuracy \u001b[38;5;241m=\u001b[39m accuracy_score(y_test, y_pred)\n",
      "File \u001b[1;32mc:\\Users\\HP\\anaconda3\\Lib\\site-packages\\sklearn\\svm\\_base.py:818\u001b[0m, in \u001b[0;36mBaseSVC.predict\u001b[1;34m(self, X)\u001b[0m\n\u001b[0;32m    816\u001b[0m     y \u001b[38;5;241m=\u001b[39m np\u001b[38;5;241m.\u001b[39margmax(\u001b[38;5;28mself\u001b[39m\u001b[38;5;241m.\u001b[39mdecision_function(X), axis\u001b[38;5;241m=\u001b[39m\u001b[38;5;241m1\u001b[39m)\n\u001b[0;32m    817\u001b[0m \u001b[38;5;28;01melse\u001b[39;00m:\n\u001b[1;32m--> 818\u001b[0m     y \u001b[38;5;241m=\u001b[39m \u001b[38;5;28msuper\u001b[39m()\u001b[38;5;241m.\u001b[39mpredict(X)\n\u001b[0;32m    819\u001b[0m \u001b[38;5;28;01mreturn\u001b[39;00m \u001b[38;5;28mself\u001b[39m\u001b[38;5;241m.\u001b[39mclasses_\u001b[38;5;241m.\u001b[39mtake(np\u001b[38;5;241m.\u001b[39masarray(y, dtype\u001b[38;5;241m=\u001b[39mnp\u001b[38;5;241m.\u001b[39mintp))\n",
      "File \u001b[1;32mc:\\Users\\HP\\anaconda3\\Lib\\site-packages\\sklearn\\svm\\_base.py:433\u001b[0m, in \u001b[0;36mBaseLibSVM.predict\u001b[1;34m(self, X)\u001b[0m\n\u001b[0;32m    431\u001b[0m X \u001b[38;5;241m=\u001b[39m \u001b[38;5;28mself\u001b[39m\u001b[38;5;241m.\u001b[39m_validate_for_predict(X)\n\u001b[0;32m    432\u001b[0m predict \u001b[38;5;241m=\u001b[39m \u001b[38;5;28mself\u001b[39m\u001b[38;5;241m.\u001b[39m_sparse_predict \u001b[38;5;28;01mif\u001b[39;00m \u001b[38;5;28mself\u001b[39m\u001b[38;5;241m.\u001b[39m_sparse \u001b[38;5;28;01melse\u001b[39;00m \u001b[38;5;28mself\u001b[39m\u001b[38;5;241m.\u001b[39m_dense_predict\n\u001b[1;32m--> 433\u001b[0m \u001b[38;5;28;01mreturn\u001b[39;00m predict(X)\n",
      "File \u001b[1;32mc:\\Users\\HP\\anaconda3\\Lib\\site-packages\\sklearn\\svm\\_base.py:479\u001b[0m, in \u001b[0;36mBaseLibSVM._sparse_predict\u001b[1;34m(self, X)\u001b[0m\n\u001b[0;32m    475\u001b[0m kernel_type \u001b[38;5;241m=\u001b[39m \u001b[38;5;28mself\u001b[39m\u001b[38;5;241m.\u001b[39m_sparse_kernels\u001b[38;5;241m.\u001b[39mindex(kernel)\n\u001b[0;32m    477\u001b[0m C \u001b[38;5;241m=\u001b[39m \u001b[38;5;241m0.0\u001b[39m  \u001b[38;5;66;03m# C is not useful here\u001b[39;00m\n\u001b[1;32m--> 479\u001b[0m \u001b[38;5;28;01mreturn\u001b[39;00m libsvm_sparse\u001b[38;5;241m.\u001b[39mlibsvm_sparse_predict(\n\u001b[0;32m    480\u001b[0m     X\u001b[38;5;241m.\u001b[39mdata,\n\u001b[0;32m    481\u001b[0m     X\u001b[38;5;241m.\u001b[39mindices,\n\u001b[0;32m    482\u001b[0m     X\u001b[38;5;241m.\u001b[39mindptr,\n\u001b[0;32m    483\u001b[0m     \u001b[38;5;28mself\u001b[39m\u001b[38;5;241m.\u001b[39msupport_vectors_\u001b[38;5;241m.\u001b[39mdata,\n\u001b[0;32m    484\u001b[0m     \u001b[38;5;28mself\u001b[39m\u001b[38;5;241m.\u001b[39msupport_vectors_\u001b[38;5;241m.\u001b[39mindices,\n\u001b[0;32m    485\u001b[0m     \u001b[38;5;28mself\u001b[39m\u001b[38;5;241m.\u001b[39msupport_vectors_\u001b[38;5;241m.\u001b[39mindptr,\n\u001b[0;32m    486\u001b[0m     \u001b[38;5;28mself\u001b[39m\u001b[38;5;241m.\u001b[39m_dual_coef_\u001b[38;5;241m.\u001b[39mdata,\n\u001b[0;32m    487\u001b[0m     \u001b[38;5;28mself\u001b[39m\u001b[38;5;241m.\u001b[39m_intercept_,\n\u001b[0;32m    488\u001b[0m     LIBSVM_IMPL\u001b[38;5;241m.\u001b[39mindex(\u001b[38;5;28mself\u001b[39m\u001b[38;5;241m.\u001b[39m_impl),\n\u001b[0;32m    489\u001b[0m     kernel_type,\n\u001b[0;32m    490\u001b[0m     \u001b[38;5;28mself\u001b[39m\u001b[38;5;241m.\u001b[39mdegree,\n\u001b[0;32m    491\u001b[0m     \u001b[38;5;28mself\u001b[39m\u001b[38;5;241m.\u001b[39m_gamma,\n\u001b[0;32m    492\u001b[0m     \u001b[38;5;28mself\u001b[39m\u001b[38;5;241m.\u001b[39mcoef0,\n\u001b[0;32m    493\u001b[0m     \u001b[38;5;28mself\u001b[39m\u001b[38;5;241m.\u001b[39mtol,\n\u001b[0;32m    494\u001b[0m     C,\n\u001b[0;32m    495\u001b[0m     \u001b[38;5;66;03m# TODO(1.4): Replace \"_class_weight\" with \"class_weight_\"\u001b[39;00m\n\u001b[0;32m    496\u001b[0m     \u001b[38;5;28mgetattr\u001b[39m(\u001b[38;5;28mself\u001b[39m, \u001b[38;5;124m\"\u001b[39m\u001b[38;5;124m_class_weight\u001b[39m\u001b[38;5;124m\"\u001b[39m, np\u001b[38;5;241m.\u001b[39mempty(\u001b[38;5;241m0\u001b[39m)),\n\u001b[0;32m    497\u001b[0m     \u001b[38;5;28mself\u001b[39m\u001b[38;5;241m.\u001b[39mnu,\n\u001b[0;32m    498\u001b[0m     \u001b[38;5;28mself\u001b[39m\u001b[38;5;241m.\u001b[39mepsilon,\n\u001b[0;32m    499\u001b[0m     \u001b[38;5;28mself\u001b[39m\u001b[38;5;241m.\u001b[39mshrinking,\n\u001b[0;32m    500\u001b[0m     \u001b[38;5;28mself\u001b[39m\u001b[38;5;241m.\u001b[39mprobability,\n\u001b[0;32m    501\u001b[0m     \u001b[38;5;28mself\u001b[39m\u001b[38;5;241m.\u001b[39m_n_support,\n\u001b[0;32m    502\u001b[0m     \u001b[38;5;28mself\u001b[39m\u001b[38;5;241m.\u001b[39m_probA,\n\u001b[0;32m    503\u001b[0m     \u001b[38;5;28mself\u001b[39m\u001b[38;5;241m.\u001b[39m_probB,\n\u001b[0;32m    504\u001b[0m )\n",
      "\u001b[1;31mKeyboardInterrupt\u001b[0m: "
     ]
    }
   ],
   "source": [
    "from sklearn.svm import SVC\n",
    "\n",
    "svm_model = SVC(kernel='linear', class_weight='balanced')\n",
    "svm_results = train_and_evaluate(svm_model, \"Support Vector Machine\", X_train_tfidf, X_test_tfidf, y_train, y_test)\n",
    "results.append(svm_results)"
   ]
  },
  {
   "cell_type": "code",
   "execution_count": null,
   "id": "396e99c4",
   "metadata": {},
   "outputs": [
    {
     "ename": "NameError",
     "evalue": "name 'start' is not defined",
     "output_type": "error",
     "traceback": [
      "\u001b[1;31m---------------------------------------------------------------------------\u001b[0m",
      "\u001b[1;31mNameError\u001b[0m                                 Traceback (most recent call last)",
      "Cell \u001b[1;32mIn[25], line 5\u001b[0m\n\u001b[0;32m      3\u001b[0m rf_model \u001b[38;5;241m=\u001b[39m RandomForestClassifier(n_estimators\u001b[38;5;241m=\u001b[39m\u001b[38;5;241m50\u001b[39m, max_depth\u001b[38;5;241m=\u001b[39m\u001b[38;5;241m20\u001b[39m, min_samples_split\u001b[38;5;241m=\u001b[39m\u001b[38;5;241m5\u001b[39m, random_state\u001b[38;5;241m=\u001b[39m\u001b[38;5;241m42\u001b[39m)\n\u001b[0;32m      4\u001b[0m rf_model\u001b[38;5;241m.\u001b[39mfit(X_train_tfidf, y_train)\n\u001b[1;32m----> 5\u001b[0m train_time \u001b[38;5;241m=\u001b[39m time\u001b[38;5;241m.\u001b[39mtime() \u001b[38;5;241m-\u001b[39m start\n\u001b[0;32m      7\u001b[0m y_pred \u001b[38;5;241m=\u001b[39m rf_model\u001b[38;5;241m.\u001b[39mpredict(X_test_tfidf)\n\u001b[0;32m      9\u001b[0m \u001b[38;5;66;03m# Calculate metrics\u001b[39;00m\n",
      "\u001b[1;31mNameError\u001b[0m: name 'start' is not defined"
     ]
    }
   ],
   "source": [
    "from sklearn.ensemble import RandomForestClassifier\n",
    "\n",
    "rf_model = RandomForestClassifier(n_estimators=50, max_depth=20, min_samples_split=5, random_state=42)\n",
    "rf_model.fit(X_train_tfidf, y_train)\n",
    "\n",
    "\n",
    "y_pred = rf_model.predict(X_test_tfidf)\n",
    "\n",
    "# Calculate metrics\n",
    "accuracy = accuracy_score(y_test, y_pred)\n",
    "report = classification_report(y_test, y_pred, output_dict=True)\n",
    "\n",
    "# Print results\n",
    "print(\"\\nRandom Forest Results:\")\n",
    "print(f\"Accuracy: {accuracy:.4f}\")\n",
    "\n",
    "print(\"\\nClassification Report:\")\n",
    "print(classification_report(y_test, y_pred))\n",
    "\n"
   ]
  },
  {
   "cell_type": "code",
   "execution_count": null,
   "id": "c4aeb722",
   "metadata": {},
   "outputs": [],
   "source": []
  },
  {
   "cell_type": "code",
   "execution_count": null,
   "id": "e0b24666",
   "metadata": {},
   "outputs": [],
   "source": []
  },
  {
   "cell_type": "code",
   "execution_count": null,
   "id": "028524be",
   "metadata": {},
   "outputs": [],
   "source": []
  },
  {
   "cell_type": "code",
   "execution_count": null,
   "id": "ad2a46ad",
   "metadata": {},
   "outputs": [],
   "source": []
  },
  {
   "cell_type": "code",
   "execution_count": null,
   "id": "a017150d",
   "metadata": {},
   "outputs": [],
   "source": []
  },
  {
   "cell_type": "code",
   "execution_count": null,
   "id": "e0645bda",
   "metadata": {},
   "outputs": [],
   "source": []
  },
  {
   "cell_type": "code",
   "execution_count": null,
   "id": "726fc8af",
   "metadata": {},
   "outputs": [],
   "source": []
  },
  {
   "cell_type": "code",
   "execution_count": null,
   "id": "7016e43c",
   "metadata": {},
   "outputs": [],
   "source": []
  },
  {
   "cell_type": "code",
   "execution_count": null,
   "id": "85f00640",
   "metadata": {},
   "outputs": [],
   "source": []
  },
  {
   "cell_type": "code",
   "execution_count": null,
   "id": "7ec772b2",
   "metadata": {},
   "outputs": [],
   "source": []
  },
  {
   "cell_type": "code",
   "execution_count": null,
   "id": "10031362",
   "metadata": {},
   "outputs": [],
   "source": []
  },
  {
   "cell_type": "code",
   "execution_count": null,
   "id": "dc301b1a",
   "metadata": {},
   "outputs": [],
   "source": []
  },
  {
   "cell_type": "code",
   "execution_count": null,
   "id": "804b8da1",
   "metadata": {},
   "outputs": [],
   "source": []
  },
  {
   "cell_type": "code",
   "execution_count": null,
   "id": "6ad429a8",
   "metadata": {},
   "outputs": [],
   "source": []
  }
 ],
 "metadata": {
  "kernelspec": {
   "display_name": "Python 3 (ipykernel)",
   "language": "python",
   "name": "python3"
  },
  "language_info": {
   "codemirror_mode": {
    "name": "ipython",
    "version": 3
   },
   "file_extension": ".py",
   "mimetype": "text/x-python",
   "name": "python",
   "nbconvert_exporter": "python",
   "pygments_lexer": "ipython3",
   "version": "3.11.5"
  }
 },
 "nbformat": 4,
 "nbformat_minor": 5
}
